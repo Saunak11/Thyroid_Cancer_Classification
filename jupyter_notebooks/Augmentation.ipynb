{
 "cells": [
  {
   "cell_type": "code",
   "execution_count": 2,
   "id": "f5c29a50",
   "metadata": {},
   "outputs": [
    {
     "name": "stdout",
     "output_type": "stream",
     "text": [
      "albumentations is installed!\n"
     ]
    }
   ],
   "source": [
    "import importlib.util\n",
    "\n",
    "package_name = \"albumentations\"\n",
    "spec = importlib.util.find_spec(package_name)\n",
    "\n",
    "if spec is not None:\n",
    "    print(f\"{package_name} is installed!\")\n",
    "else:\n",
    "    print(f\"{package_name} is NOT installed!\")\n"
   ]
  },
  {
   "cell_type": "code",
   "execution_count": 4,
   "id": "21c08200",
   "metadata": {},
   "outputs": [
    {
     "name": "stderr",
     "output_type": "stream",
     "text": [
      "Augmenting benign: 100%|█████████████████████████████████████████████████████████████| 192/192 [00:05<00:00, 35.19it/s]\n",
      "Augmenting malignant: 100%|██████████████████████████████████████████████████████████| 288/288 [00:07<00:00, 36.94it/s]"
     ]
    },
    {
     "name": "stdout",
     "output_type": "stream",
     "text": [
      "Augmentation completed successfully!\n"
     ]
    },
    {
     "name": "stderr",
     "output_type": "stream",
     "text": [
      "\n"
     ]
    }
   ],
   "source": [
    "import os\n",
    "import cv2\n",
    "import numpy as np\n",
    "import albumentations as A\n",
    "from tqdm import tqdm\n",
    "\n",
    "# Define input and output directories\n",
    "input_dirs = [\"benign\", \"malignant\"]  # Folders where original images are stored\n",
    "output_parent_dir = \"augmented_images\"  # Main folder to store augmented images\n",
    "\n",
    "# Define augmentation techniques\n",
    "augmentations = A.Compose([\n",
    "    A.HorizontalFlip(p=0.5),\n",
    "    A.RandomRotate90(p=0.5),\n",
    "    A.Transpose(p=0.5),\n",
    "    A.ShiftScaleRotate(shift_limit=0.05, scale_limit=0.05, rotate_limit=15, p=0.5),\n",
    "    A.RandomBrightnessContrast(p=0.5),\n",
    "])\n",
    "\n",
    "# Number of augmented copies per image\n",
    "num_augmented_copies = 3  # Change this to generate more or fewer images\n",
    "\n",
    "# Function to augment and save images\n",
    "def augment_and_save_images(class_name):\n",
    "    input_folder = class_name  # Since folders are in the main working directory\n",
    "    output_folder = os.path.join(output_parent_dir, class_name)\n",
    "    \n",
    "    # Create output directory if it doesn't exist\n",
    "    os.makedirs(output_folder, exist_ok=True)\n",
    "    \n",
    "    # Process each image\n",
    "    for img_name in tqdm(os.listdir(input_folder), desc=f\"Augmenting {class_name}\"):\n",
    "        img_path = os.path.join(input_folder, img_name)\n",
    "        image = cv2.imread(img_path)\n",
    "        \n",
    "        if image is None:\n",
    "            continue  # Skip unreadable files\n",
    "        \n",
    "        # Convert image from BGR to RGB\n",
    "        image = cv2.cvtColor(image, cv2.COLOR_BGR2RGB)\n",
    "        \n",
    "        for i in range(num_augmented_copies):  # Generate multiple augmented copies\n",
    "            augmented = augmentations(image=image)['image']\n",
    "            \n",
    "            # Convert back to BGR for saving with OpenCV\n",
    "            augmented = cv2.cvtColor(augmented, cv2.COLOR_RGB2BGR)\n",
    "            \n",
    "            # Save augmented image with \"aug_\" prefix and unique index\n",
    "            aug_img_name = f\"aug_{i}_{img_name}\"\n",
    "            aug_img_path = os.path.join(output_folder, aug_img_name)\n",
    "            cv2.imwrite(aug_img_path, augmented)\n",
    "\n",
    "# Perform augmentation for both classes\n",
    "for class_name in input_dirs:\n",
    "    augment_and_save_images(class_name)\n",
    "\n",
    "print(\"Augmentation completed successfully!\")\n"
   ]
  },
  {
   "cell_type": "code",
   "execution_count": null,
   "id": "364cc351",
   "metadata": {},
   "outputs": [],
   "source": []
  }
 ],
 "metadata": {
  "kernelspec": {
   "display_name": "Python 3",
   "language": "python",
   "name": "python3"
  },
  "language_info": {
   "codemirror_mode": {
    "name": "ipython",
    "version": 3
   },
   "file_extension": ".py",
   "mimetype": "text/x-python",
   "name": "python",
   "nbconvert_exporter": "python",
   "pygments_lexer": "ipython3",
   "version": "3.8.8"
  }
 },
 "nbformat": 4,
 "nbformat_minor": 5
}
