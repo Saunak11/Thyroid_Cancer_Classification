{
 "cells": [
  {
   "cell_type": "code",
   "execution_count": 9,
   "id": "71c58eff",
   "metadata": {},
   "outputs": [
    {
     "name": "stdout",
     "output_type": "stream",
     "text": [
      "['.ipynb_checkpoints', 'ALL FILES', 'extracted_data.csv', 'extraction code.ipynb', 'image files', 'separating into xml and images.ipynb', 'Untitled.ipynb', 'xml files']\n"
     ]
    }
   ],
   "source": [
    "import os\n",
    "print(os.listdir())\n"
   ]
  },
  {
   "cell_type": "code",
   "execution_count": 11,
   "id": "80f25fa3",
   "metadata": {},
   "outputs": [
    {
     "name": "stdout",
     "output_type": "stream",
     "text": [
      "Index(['File Name', 'case', 'number', 'age', 'sex', 'composition',\n",
      "       'echogenicity', 'margins', 'calcifications', 'tirads', 'reportbacaf',\n",
      "       'reporteco', 'mark', 'image', 'svg'],\n",
      "      dtype='object')\n"
     ]
    }
   ],
   "source": [
    "import pandas as pd\n",
    "\n",
    "# Load the dataset\n",
    "csv_path = \"extracted_data.csv\"\n",
    "df = pd.read_csv(csv_path)\n",
    "\n",
    "# Display the column names\n",
    "print(df.columns)\n"
   ]
  },
  {
   "cell_type": "code",
   "execution_count": 22,
   "id": "d2d604f3",
   "metadata": {},
   "outputs": [
    {
     "name": "stdout",
     "output_type": "stream",
     "text": [
      "Unique TIRADS values in dataset: ['0' '4b' '4a' '5' '4c' '2' '3']\n",
      "\n",
      "TIRADS Classification Counts:\n",
      "TIRADS 0: 92 cases\n",
      "TIRADS 1: 0 cases\n",
      "TIRADS 2: 38 cases\n",
      "TIRADS 3: 14 cases\n",
      "TIRADS 4a: 85 cases\n",
      "TIRADS 4b: 75 cases\n",
      "TIRADS 4c: 56 cases\n",
      "TIRADS 5: 30 cases\n"
     ]
    }
   ],
   "source": [
    "import pandas as pd\n",
    "\n",
    "# Load the extracted data\n",
    "csv_path = \"extracted_data.csv\"\n",
    "df = pd.read_csv(csv_path)\n",
    "\n",
    "# Fill missing TIRADS values as 0\n",
    "df['tirads'].fillna('0', inplace=True)\n",
    "\n",
    "# Convert TIRADS values to string for consistency\n",
    "df['tirads'] = df['tirads'].astype(str)\n",
    "\n",
    "# Display unique TIRADS values\n",
    "print(\"Unique TIRADS values in dataset:\", df['tirads'].unique())\n",
    "\n",
    "# Count occurrences of each TIRADS classification\n",
    "tirads_counts = df['tirads'].value_counts()\n",
    "\n",
    "# Display the counts\n",
    "print(\"\\nTIRADS Classification Counts:\")\n",
    "for tirads_type in ['0', '1', '2', '3', '4a', '4b', '4c', '5']:\n",
    "    count = tirads_counts.get(tirads_type, 0)  # Get count, default to 0 if not found\n",
    "    print(f\"TIRADS {tirads_type}: {count} cases\")\n"
   ]
  },
  {
   "cell_type": "code",
   "execution_count": 23,
   "id": "dc9a51d1",
   "metadata": {},
   "outputs": [
    {
     "name": "stdout",
     "output_type": "stream",
     "text": [
      "Unique TIRADS values in dataset: ['0' '4b' '4a' '5' '4c' '2' '3']\n",
      "\n",
      "TIRADS Classification Counts:\n",
      "TIRADS 0: 92 cases\n",
      "TIRADS 1: 0 cases\n",
      "TIRADS 2: 38 cases\n",
      "TIRADS 3: 14 cases\n",
      "TIRADS 4a: 85 cases\n",
      "TIRADS 4b: 75 cases\n",
      "TIRADS 4c: 56 cases\n",
      "TIRADS 5: 30 cases\n",
      "\n",
      "Final Classification Counts:\n",
      "Malignant    246\n",
      "Benign       144\n",
      "Name: classification, dtype: int64\n",
      "\n",
      "✅ Classified dataset saved as: classified_extracted_data.csv\n"
     ]
    }
   ],
   "source": [
    "import pandas as pd\n",
    "\n",
    "# Load the extracted data\n",
    "csv_path = \"extracted_data.csv\"\n",
    "df = pd.read_csv(csv_path)\n",
    "\n",
    "# Fill missing TIRADS values as 0\n",
    "df['tirads'].fillna('0', inplace=True)\n",
    "\n",
    "# Convert TIRADS values to string for consistency\n",
    "df['tirads'] = df['tirads'].astype(str).str.lower()\n",
    "\n",
    "# Define benign and malignant categories\n",
    "benign_tirads = ['0', '1', '2', '3']\n",
    "malignant_tirads = ['4a', '4b', '4c', '5']\n",
    "\n",
    "# Create a new column for classification\n",
    "df['classification'] = df['tirads'].apply(lambda x: 'Benign' if x in benign_tirads else 'Malignant')\n",
    "\n",
    "# Display unique TIRADS values\n",
    "print(\"Unique TIRADS values in dataset:\", df['tirads'].unique())\n",
    "\n",
    "# Count occurrences of each TIRADS classification\n",
    "tirads_counts = df['tirads'].value_counts()\n",
    "\n",
    "# Display TIRADS counts\n",
    "print(\"\\nTIRADS Classification Counts:\")\n",
    "for tirads_type in ['0', '1', '2', '3', '4a', '4b', '4c', '5']:\n",
    "    count = tirads_counts.get(tirads_type, 0)  # Get count, default to 0 if not found\n",
    "    print(f\"TIRADS {tirads_type}: {count} cases\")\n",
    "\n",
    "# Count occurrences of benign and malignant classifications\n",
    "classification_counts = df['classification'].value_counts()\n",
    "\n",
    "# Display benign and malignant counts\n",
    "print(\"\\nFinal Classification Counts:\")\n",
    "print(classification_counts)\n",
    "\n",
    "# Save the classified dataset (optional)\n",
    "classified_csv_path = \"classified_extracted_data.csv\"\n",
    "df.to_csv(classified_csv_path, index=False)\n",
    "print(f\"\\n✅ Classified dataset saved as: {classified_csv_path}\")\n"
   ]
  },
  {
   "cell_type": "code",
   "execution_count": null,
   "id": "11295d4a",
   "metadata": {},
   "outputs": [],
   "source": []
  }
 ],
 "metadata": {
  "kernelspec": {
   "display_name": "Python 3",
   "language": "python",
   "name": "python3"
  },
  "language_info": {
   "codemirror_mode": {
    "name": "ipython",
    "version": 3
   },
   "file_extension": ".py",
   "mimetype": "text/x-python",
   "name": "python",
   "nbconvert_exporter": "python",
   "pygments_lexer": "ipython3",
   "version": "3.8.8"
  }
 },
 "nbformat": 4,
 "nbformat_minor": 5
}
