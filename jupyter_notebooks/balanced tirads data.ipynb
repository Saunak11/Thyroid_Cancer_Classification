{
 "cells": [
  {
   "cell_type": "code",
   "execution_count": 15,
   "id": "ab8b0d8c",
   "metadata": {},
   "outputs": [
    {
     "name": "stdout",
     "output_type": "stream",
     "text": [
      "Balanced TIRADS Counts:\n",
      "0     92\n",
      "2     80\n",
      "3     75\n",
      "4a    85\n",
      "4b    80\n",
      "4c    75\n",
      "5     70\n",
      "Name: tirads, dtype: int64\n",
      "\n",
      "Balanced Classification Results:\n",
      "Malignant: 310 cases\n",
      "Benign: 247 cases\n",
      "\n",
      "Balanced dataset saved to: balanced_tirads_data.csv\n"
     ]
    }
   ],
   "source": [
    "import pandas as pd\n",
    "from sklearn.utils import resample\n",
    "\n",
    "# Load the dataset\n",
    "file_path = \"classified_extracted_data.csv\"  # Change to your actual file path\n",
    "df = pd.read_csv(file_path)\n",
    "\n",
    "# Ensure 'tirads' column is treated as a string and clean it\n",
    "df[\"tirads\"] = df[\"tirads\"].astype(str).str.lower().str.strip()\n",
    "\n",
    "# Replace NaN values with \"0\"\n",
    "df[\"tirads\"] = df[\"tirads\"].replace(\"nan\", \"0\")\n",
    "\n",
    "# Define classification rules\n",
    "benign_classes = [\"0\",\"1\", \"2\", \"3\"]\n",
    "df[\"classification\"] = df[\"tirads\"].apply(lambda x: \"benign\" if x in benign_classes else \"malignant\")\n",
    "\n",
    "# Define target counts to balance but not equalize\n",
    "target_counts = {\n",
    "    \"0\": 92,   # No augmentation\n",
    "    \"2\": 80,   # Increase but not equal to 92\n",
    "    \"3\": 75,   # Increase but not equal to 92\n",
    "    \"4a\": 85,  # No augmentation\n",
    "    \"4b\": 80,  # Increase but not equal to 85\n",
    "    \"4c\": 75,  # Increase but not equal to 85\n",
    "    \"5\": 70    # Increase but not equal to 85\n",
    "}\n",
    "\n",
    "# List to store balanced subsets\n",
    "balanced_data = []\n",
    "\n",
    "# Process each TIRADS category\n",
    "for tirads_value, target in target_counts.items():\n",
    "    subset = df[df[\"tirads\"] == tirads_value]\n",
    "    \n",
    "    # If the count is less than the target, oversample without exact duplication\n",
    "    if len(subset) < target:\n",
    "        subset = resample(subset, replace=True, n_samples=target, random_state=42)\n",
    "    \n",
    "    # Append balanced data\n",
    "    balanced_data.append(subset)\n",
    "\n",
    "# Combine all balanced subsets\n",
    "balanced_df = pd.concat(balanced_data)\n",
    "\n",
    "# Recalculate classification counts\n",
    "balanced_classification_counts = balanced_df[\"classification\"].value_counts()\n",
    "\n",
    "# Save the balanced dataset\n",
    "balanced_output_path = \"balanced_tirads_data.csv\"\n",
    "balanced_df.to_csv(balanced_output_path, index=False)\n",
    "\n",
    "# Print the new balanced counts\n",
    "print(\"Balanced TIRADS Counts:\")\n",
    "print(balanced_df[\"tirads\"].value_counts().sort_index())\n",
    "\n",
    "print(\"\\nBalanced Classification Results:\")\n",
    "for classification, count in balanced_classification_counts.items():\n",
    "    print(f\"{classification.capitalize()}: {count} cases\")\n",
    "\n",
    "print(f\"\\nBalanced dataset saved to: {balanced_output_path}\")\n"
   ]
  },
  {
   "cell_type": "code",
   "execution_count": null,
   "id": "58f98d0b",
   "metadata": {},
   "outputs": [],
   "source": []
  }
 ],
 "metadata": {
  "kernelspec": {
   "display_name": "Python 3",
   "language": "python",
   "name": "python3"
  },
  "language_info": {
   "codemirror_mode": {
    "name": "ipython",
    "version": 3
   },
   "file_extension": ".py",
   "mimetype": "text/x-python",
   "name": "python",
   "nbconvert_exporter": "python",
   "pygments_lexer": "ipython3",
   "version": "3.8.8"
  }
 },
 "nbformat": 4,
 "nbformat_minor": 5
}
