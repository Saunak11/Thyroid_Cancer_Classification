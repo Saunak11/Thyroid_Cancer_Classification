{
 "cells": [
  {
   "cell_type": "code",
   "execution_count": 1,
   "id": "b3eff38a",
   "metadata": {},
   "outputs": [
    {
     "name": "stdout",
     "output_type": "stream",
     "text": [
      "Files have been successfully separated into 'image files' and 'xml files'!\n"
     ]
    }
   ],
   "source": [
    "import os\n",
    "import shutil\n",
    "\n",
    "# Define source and destination folders\n",
    "source_folder = \"ALL FILES\"\n",
    "image_folder = \"image files\"\n",
    "xml_folder = \"xml files\"\n",
    "\n",
    "# Ensure destination folders exist\n",
    "os.makedirs(image_folder, exist_ok=True)\n",
    "os.makedirs(xml_folder, exist_ok=True)\n",
    "\n",
    "# Loop through all files in the source folder\n",
    "for file_name in os.listdir(source_folder):\n",
    "    file_path = os.path.join(source_folder, file_name)\n",
    "    \n",
    "    # Check if it's a file (not a folder)\n",
    "    if os.path.isfile(file_path):\n",
    "        # Move images to 'image files' folder\n",
    "        if file_name.lower().endswith(('.png', '.jpg', '.jpeg', '.bmp', '.gif')):\n",
    "            shutil.move(file_path, os.path.join(image_folder, file_name))\n",
    "        \n",
    "        # Move XML files to 'xml files' folder\n",
    "        elif file_name.lower().endswith('.xml'):\n",
    "            shutil.move(file_path, os.path.join(xml_folder, file_name))\n",
    "\n",
    "print(\"Files have been successfully separated into 'image files' and 'xml files'!\")\n"
   ]
  },
  {
   "cell_type": "code",
   "execution_count": null,
   "id": "15c0dc04",
   "metadata": {},
   "outputs": [],
   "source": []
  }
 ],
 "metadata": {
  "kernelspec": {
   "display_name": "Python 3",
   "language": "python",
   "name": "python3"
  },
  "language_info": {
   "codemirror_mode": {
    "name": "ipython",
    "version": 3
   },
   "file_extension": ".py",
   "mimetype": "text/x-python",
   "name": "python",
   "nbconvert_exporter": "python",
   "pygments_lexer": "ipython3",
   "version": "3.8.8"
  }
 },
 "nbformat": 4,
 "nbformat_minor": 5
}
