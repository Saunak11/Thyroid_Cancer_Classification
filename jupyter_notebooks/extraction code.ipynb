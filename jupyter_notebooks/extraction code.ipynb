{
 "cells": [
  {
   "cell_type": "code",
   "execution_count": 4,
   "id": "8a24dd63",
   "metadata": {},
   "outputs": [
    {
     "name": "stdout",
     "output_type": "stream",
     "text": [
      "C:\\Users\\KIIT\\THYROID CLASSIFICATION PROJECT\n"
     ]
    }
   ],
   "source": [
    "import os\n",
    "print(os.getcwd())\n"
   ]
  },
  {
   "cell_type": "code",
   "execution_count": 5,
   "id": "76e663bb",
   "metadata": {},
   "outputs": [
    {
     "name": "stdout",
     "output_type": "stream",
     "text": [
      "✅ Data extraction complete! CSV saved at: C:\\Users\\KIIT\\THYROID CLASSIFICATION PROJECT\\extracted_data.csv\n"
     ]
    }
   ],
   "source": [
    "import os\n",
    "import xml.etree.ElementTree as ET\n",
    "import pandas as pd\n",
    "\n",
    "# Define folder paths\n",
    "base_dir = os.getcwd()  # Get the current working directory\n",
    "xml_dir = os.path.join(base_dir, \"xml files\")  # XML files directory\n",
    "output_csv = os.path.join(base_dir, \"extracted_data.csv\")  # Output CSV file\n",
    "\n",
    "# Check if the folder exists\n",
    "if not os.path.exists(xml_dir):\n",
    "    raise FileNotFoundError(f\"❌ Error: Folder '{xml_dir}' not found! Check your directory structure.\")\n",
    "\n",
    "# List to store extracted data\n",
    "data_list = []\n",
    "\n",
    "# Loop through all XML files in the directory\n",
    "for xml_file in os.listdir(xml_dir):\n",
    "    if xml_file.endswith(\".xml\"):\n",
    "        file_path = os.path.join(xml_dir, xml_file)\n",
    "        tree = ET.parse(file_path)\n",
    "        root = tree.getroot()\n",
    "\n",
    "        # Extract information (Modify tag names if needed)\n",
    "        file_name = xml_file.replace('.xml', '')  # Remove .xml extension\n",
    "        \n",
    "        tirads = root.find('TIRADS').text if root.find('TIRADS') is not None else \"Unknown\"\n",
    "        diagnosis = root.find('Diagnosis').text if root.find('Diagnosis') is not None else \"Unknown\"\n",
    "        nodule_size = root.find('NoduleSize').text if root.find('NoduleSize') is not None else \"Unknown\"\n",
    "\n",
    "        # Append extracted data to list\n",
    "        data_list.append({\n",
    "            \"File Name\": file_name,\n",
    "            \"TIRADS Classification\": tirads,\n",
    "            \"Diagnosis\": diagnosis,\n",
    "            \"Nodule Size\": nodule_size\n",
    "        })\n",
    "\n",
    "# Convert data to a DataFrame\n",
    "df = pd.DataFrame(data_list)\n",
    "\n",
    "# Save to CSV file\n",
    "df.to_csv(output_csv, index=False)\n",
    "\n",
    "print(f\"✅ Data extraction complete! CSV saved at: {output_csv}\")\n"
   ]
  },
  {
   "cell_type": "code",
   "execution_count": 6,
   "id": "c2119d7e",
   "metadata": {},
   "outputs": [
    {
     "name": "stdout",
     "output_type": "stream",
     "text": [
      "✅ Data extraction complete! CSV saved at: C:\\Users\\KIIT\\THYROID CLASSIFICATION PROJECT\\extracted_data.csv\n"
     ]
    }
   ],
   "source": [
    "import os\n",
    "import xml.etree.ElementTree as ET\n",
    "import pandas as pd\n",
    "\n",
    "# Define folder paths\n",
    "base_dir = os.getcwd()  # Get the current working directory\n",
    "xml_dir = os.path.join(base_dir, \"xml files\")  # Path to XML files\n",
    "output_csv = os.path.join(base_dir, \"extracted_data.csv\")  # Output CSV file\n",
    "\n",
    "# Check if the folder exists\n",
    "if not os.path.exists(xml_dir):\n",
    "    raise FileNotFoundError(f\"❌ Error: Folder '{xml_dir}' not found! Check your directory structure.\")\n",
    "\n",
    "# List to store extracted data\n",
    "data_list = []\n",
    "\n",
    "# Loop through all XML files in the directory\n",
    "for xml_file in os.listdir(xml_dir):\n",
    "    if xml_file.endswith(\".xml\"):\n",
    "        file_path = os.path.join(xml_dir, xml_file)\n",
    "        tree = ET.parse(file_path)\n",
    "        root = tree.getroot()\n",
    "\n",
    "        # Create a dictionary to store all attributes from XML\n",
    "        data_dict = {\"File Name\": xml_file.replace('.xml', '')}  # Store file name\n",
    "\n",
    "        # Loop through all elements in the XML file\n",
    "        for elem in root.iter():\n",
    "            if elem.tag not in data_dict:  # Avoid duplicate keys\n",
    "                data_dict[elem.tag] = elem.text\n",
    "\n",
    "        # Append extracted data to list\n",
    "        data_list.append(data_dict)\n",
    "\n",
    "# Convert data to a DataFrame\n",
    "df = pd.DataFrame(data_list)\n",
    "\n",
    "# Save to CSV file\n",
    "df.to_csv(output_csv, index=False)\n",
    "\n",
    "print(f\"✅ Data extraction complete! CSV saved at: {output_csv}\")\n"
   ]
  },
  {
   "cell_type": "code",
   "execution_count": null,
   "id": "444b6c98",
   "metadata": {},
   "outputs": [],
   "source": []
  }
 ],
 "metadata": {
  "kernelspec": {
   "display_name": "Python 3",
   "language": "python",
   "name": "python3"
  },
  "language_info": {
   "codemirror_mode": {
    "name": "ipython",
    "version": 3
   },
   "file_extension": ".py",
   "mimetype": "text/x-python",
   "name": "python",
   "nbconvert_exporter": "python",
   "pygments_lexer": "ipython3",
   "version": "3.8.8"
  }
 },
 "nbformat": 4,
 "nbformat_minor": 5
}
