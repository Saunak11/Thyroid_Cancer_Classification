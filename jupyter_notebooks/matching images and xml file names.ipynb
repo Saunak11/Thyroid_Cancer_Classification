{
 "cells": [
  {
   "cell_type": "code",
   "execution_count": 51,
   "id": "60a1f4f8",
   "metadata": {},
   "outputs": [
    {
     "name": "stdout",
     "output_type": "stream",
     "text": [
      "Matching completed! Check 'matched_images.csv' for results.\n"
     ]
    }
   ],
   "source": [
    "import os\n",
    "import pandas as pd\n",
    "\n",
    "# Load CSV file\n",
    "csv_path = \"balanced_tirads_data.csv\"  # Update this if needed\n",
    "df = pd.read_csv(csv_path)\n",
    "\n",
    "# Define image folder path\n",
    "image_folder = \"image files\"  # Change to your actual image folder path\n",
    "\n",
    "# Get all image filenames\n",
    "image_files = os.listdir(image_folder)\n",
    "\n",
    "# Dictionary to store matched image names\n",
    "matched_images = {}\n",
    "\n",
    "# Process each row in the CSV\n",
    "def match_and_rename():\n",
    "    for _, row in df.iterrows():\n",
    "        file_number = str(row[\"File Name\"])  # Convert to string to match format\n",
    "        image_count = int(row[\"image\"]) if not pd.isna(row[\"image\"]) else 1  # Default to 1 if NaN\n",
    "        \n",
    "        # Generate possible image filenames (e.g., '1_1.jpg', '1_2.jpg')\n",
    "        possible_images = [f\"{file_number}_{i}.jpg\" for i in range(1, image_count + 1)]\n",
    "        \n",
    "        # Find actual matching images\n",
    "        matched = [img for img in image_files if img in possible_images]\n",
    "        \n",
    "        if matched:\n",
    "            matched_images[file_number] = matched\n",
    "\n",
    "    return matched_images\n",
    "\n",
    "# Run matching function\n",
    "matched_images = match_and_rename()\n",
    "\n",
    "# Save matched images to a new CSV file\n",
    "matched_df = pd.DataFrame([(k, v) for k, v in matched_images.items()], columns=[\"File Name\", \"Matched Images\"])\n",
    "matched_df.to_csv(\"matched_images.csv\", index=False)\n",
    "\n",
    "print(\"Matching completed! Check 'matched_images.csv' for results.\")\n"
   ]
  },
  {
   "cell_type": "code",
   "execution_count": null,
   "id": "0e6133ca",
   "metadata": {},
   "outputs": [],
   "source": []
  }
 ],
 "metadata": {
  "kernelspec": {
   "display_name": "Python 3",
   "language": "python",
   "name": "python3"
  },
  "language_info": {
   "codemirror_mode": {
    "name": "ipython",
    "version": 3
   },
   "file_extension": ".py",
   "mimetype": "text/x-python",
   "name": "python",
   "nbconvert_exporter": "python",
   "pygments_lexer": "ipython3",
   "version": "3.8.8"
  }
 },
 "nbformat": 4,
 "nbformat_minor": 5
}
